{
 "cells": [
  {
   "cell_type": "code",
   "execution_count": 3,
   "metadata": {},
   "outputs": [],
   "source": [
    "%load_ext autoreload\r\n",
    "%autoreload 2"
   ]
  },
  {
   "cell_type": "code",
   "execution_count": 1,
   "metadata": {},
   "outputs": [
    {
     "name": "stdout",
     "output_type": "stream",
     "text": [
      "[['BeginningOfDay', 'a', 'Debatealone', 'Speech', 'EndOfSection'],\n",
      " ['Debatealone', 'SubDebate', 'Speech', 'EndOfSection'],\n",
      " ['Debatealone', 'Speech', 'Speech', 'Speech', 'EndOfSection']]\n"
     ]
    }
   ],
   "source": [
    "from pprint import pprint\r\n",
    "from parliament.tags import initial_parse\r\n",
    "\r\n",
    "parse_results = initial_parse(20210708)\r\n",
    "preface, html_tags, tag_names, tag_names_flat = parse_results\r\n",
    "\r\n",
    "pprint(tag_names[:3])"
   ]
  },
  {
   "cell_type": "code",
   "execution_count": 2,
   "metadata": {},
   "outputs": [
    {
     "data": {
      "text/plain": [
       "{'BeginningOfDay': 13,\n",
       " 'Debatealone': 32,\n",
       " 'QOA': 12,\n",
       " 'SubsQuestion': 136,\n",
       " 'BillDebate': 51,\n",
       " 'Speech': 550,\n",
       " 'VoteReason': 29,\n",
       " 'Debate': 16,\n",
       " 'MarginHeading': 13,\n",
       " 'SubDebatealone': 4,\n",
       " 'QTypealone': 2,\n",
       " 'Interjection': 1}"
      ]
     },
     "execution_count": 2,
     "metadata": {},
     "output_type": "execute_result"
    }
   ],
   "source": [
    "from parliament.tags import find_tag_structure\r\n",
    "\r\n",
    "date_scrape_list = [\r\n",
    "    20210708,\r\n",
    "    (20210707, 20210708),\r\n",
    "    20210707,\r\n",
    "    20210706,\r\n",
    "    20210701,\r\n",
    "    20210630,\r\n",
    "    20210629,\r\n",
    "    20210624,\r\n",
    "    20210623,\r\n",
    "    20210622,\r\n",
    "    20210610,\r\n",
    "    20210609,\r\n",
    "    20210608,\r\n",
    "]\r\n",
    "\r\n",
    "results = find_tag_structure(date_scrape_list)\r\n",
    "results[0]\r\n"
   ]
  },
  {
   "cell_type": "code",
   "execution_count": 4,
   "metadata": {},
   "outputs": [
    {
     "name": "stdout",
     "output_type": "stream",
     "text": [
      "{'BeginningOfDay': 13,\n",
      " 'BillDebate': 54,\n",
      " 'CentredEndingBold': 13,\n",
      " 'CentredEndingItalics': 8,\n",
      " 'ClauseAlone': 47,\n",
      " 'ContinueSpeech': 448,\n",
      " 'Debate': 16,\n",
      " 'Debatealone': 45,\n",
      " 'IndentMargin': 9,\n",
      " 'IndentMarginTextFollowing': 3,\n",
      " 'IndentMarginalone': 149,\n",
      " 'Interjection': 778,\n",
      " 'Intervention': 19,\n",
      " 'MarginHeading': 25,\n",
      " 'QOA': 12,\n",
      " 'QOAEnd': 11,\n",
      " 'QType': 12,\n",
      " 'QTypealone': 2,\n",
      " 'Speech': 1088,\n",
      " 'SubDebate': 71,\n",
      " 'SubDebatealone': 5,\n",
      " 'SubsAnswer': 154,\n",
      " 'SubsQuestion': 154,\n",
      " 'SupAnswer': 570,\n",
      " 'SupQuestion': 586,\n",
      " 'Urgency': 1,\n",
      " 'VoteCount': 142,\n",
      " 'VoteReason': 71,\n",
      " 'VoteResult': 71,\n",
      " 'VoteText': 142,\n",
      " 'a': 3448,\n",
      " 'list': 60,\n",
      " 'note': 3}\n"
     ]
    }
   ],
   "source": [
    "unique_tags, tag_counts, start_tags, group_order = results\r\n",
    "\r\n",
    "pprint(start_tags)"
   ]
  },
  {
   "cell_type": "code",
   "execution_count": 5,
   "metadata": {},
   "outputs": [
    {
     "name": "stdout",
     "output_type": "stream",
     "text": [
      "p10. scraped 10 pages\n",
      "p20. scraped 20 pages\n",
      "p30. scraped 30 pages\n",
      "p40. scraped 40 pages\n",
      "p50. scraped 50 pages\n",
      "p60. scraped 60 pages\n",
      "p70. scraped 70 pages\n",
      "p80. scraped 80 pages\n",
      "scraped 84 pages in total\n",
      "scraped 2079 in total\n"
     ]
    }
   ],
   "source": [
    "import re\r\n",
    "from parliament.link_crawler import scrape_report_links\r\n",
    "\r\n",
    "all_report_links = scrape_report_links()\r\n",
    "\r\n",
    "n_reports = len(all_report_links)\r\n",
    "print(f\"scraped {n_reports} in total\")"
   ]
  },
  {
   "cell_type": "code",
   "execution_count": 14,
   "metadata": {},
   "outputs": [
    {
     "name": "stdout",
     "output_type": "stream",
     "text": [
      "[('47HansD_20050309_00000923',\n",
      "  'relationships-statutory-references-bill-instruction',\n",
      "  'document'),\n",
      " ('50HansD_20120913',\n",
      "  'volume-683-week-22-thursday-13-september-2012',\n",
      "  'document'),\n",
      " ('50HansD_20140619_00000004', 'business-statement', 'document'),\n",
      " ('51HansD_20141028_00000012', 'address-in-reply', 'document'),\n",
      " ('47HansD_20040916',\n",
      "  'volume-620-week-68-thursday-16-september-2004',\n",
      "  'document'),\n",
      " ('51HansD_20151203',\n",
      "  'volume-710-week-35-thursday-3-december-2015',\n",
      "  'document'),\n",
      " ('48HansD_20060222_00000022',\n",
      "  'points-of-order-question-no-2-to-minister-21-february-acceptability',\n",
      "  'document'),\n",
      " ('48HansD_20070328', 'volume-638-week-40-wednesday-28-march-2007', 'document'),\n",
      " ('49HansD_20101110',\n",
      "  'volume-668-week-58-wednesday-10-november-2010',\n",
      "  'document'),\n",
      " ('20210629', '20210629', 'combined')]\n"
     ]
    }
   ],
   "source": [
    "from random import sample\r\n",
    "\r\n",
    "pprint(sample(all_report_links, n_reports)[:10])"
   ]
  }
 ],
 "metadata": {
  "interpreter": {
   "hash": "32172371068f9c49b98a1f93223636cfb40c8efecc9a856a904e50307d357046"
  },
  "kernelspec": {
   "display_name": "Python 3.8.10 64-bit ('parliament_scraper': conda)",
   "name": "python3"
  },
  "language_info": {
   "codemirror_mode": {
    "name": "ipython",
    "version": 3
   },
   "file_extension": ".py",
   "mimetype": "text/x-python",
   "name": "python",
   "nbconvert_exporter": "python",
   "pygments_lexer": "ipython3",
   "version": "3.8.10"
  },
  "orig_nbformat": 4
 },
 "nbformat": 4,
 "nbformat_minor": 2
}