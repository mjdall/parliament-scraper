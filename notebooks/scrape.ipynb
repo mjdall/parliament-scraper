{
 "cells": [
  {
   "cell_type": "code",
   "execution_count": 2,
   "metadata": {},
   "outputs": [],
   "source": [
    "%load_ext autoreload\r\n",
    "%autoreload 2"
   ]
  },
  {
   "cell_type": "code",
   "execution_count": 3,
   "metadata": {},
   "outputs": [],
   "source": [
    "import sys\r\n",
    "import os\r\n",
    "\r\n",
    "sys.path.append(os.path.join(os.path.abspath(\"\"), \"..\")) "
   ]
  },
  {
   "cell_type": "code",
   "execution_count": 4,
   "metadata": {},
   "outputs": [
    {
     "data": {
      "text/plain": [
       "[['20210708', '20210708', 'combined'],\n",
       " ['20210707', '20210708', 'combined'],\n",
       " ['20210707', '20210707', 'combined'],\n",
       " ['20210706', '20210706', 'combined'],\n",
       " ['20210701', '20210701', 'combined']]"
      ]
     },
     "execution_count": 4,
     "metadata": {},
     "output_type": "execute_result"
    }
   ],
   "source": [
    "from parliament.utils import load_json\r\n",
    "from parliament.tags import initial_parse\r\n",
    "\r\n",
    "report_links = load_json(\"../output/meta/all_report_links.json\")\r\n",
    "\r\n",
    "report_links[:5]"
   ]
  },
  {
   "cell_type": "code",
   "execution_count": 14,
   "metadata": {},
   "outputs": [
    {
     "name": "stdout",
     "output_type": "stream",
     "text": [
      "report saved to: output/reports/debate_20210708_20210708.json\n",
      "report saved to: output/reports/debate_20210707_20210708.json\n",
      "report saved to: output/reports/debate_20210707_20210707.json\n",
      "report saved to: output/reports/debate_20210706_20210706.json\n",
      "report saved to: output/reports/debate_20210701_20210701.json\n",
      "report saved to: output/reports/debate_20210630_20210630.json\n",
      "report saved to: output/reports/debate_20210629_20210629.json\n",
      "report saved to: output/reports/debate_20210624_20210624.json\n",
      "report saved to: output/reports/debate_20210623_20210623.json\n"
     ]
    },
    {
     "ename": "KeyError",
     "evalue": "'follow_up_questions'",
     "output_type": "error",
     "traceback": [
      "\u001b[1;31m---------------------------------------------------------------------------\u001b[0m",
      "\u001b[1;31mKeyError\u001b[0m                                  Traceback (most recent call last)",
      "\u001b[1;32m~\\AppData\\Local\\Temp/ipykernel_1160/4015405539.py\u001b[0m in \u001b[0;36m<module>\u001b[1;34m\u001b[0m\n\u001b[0;32m      9\u001b[0m     preface, html_tags, _, _ = initial_parse(\n\u001b[0;32m     10\u001b[0m         report_meta[0], report_meta[1])\n\u001b[1;32m---> 11\u001b[1;33m     \u001b[0mparsed\u001b[0m \u001b[1;33m=\u001b[0m \u001b[0mparse_all_html\u001b[0m\u001b[1;33m(\u001b[0m\u001b[0mhtml_tags\u001b[0m\u001b[1;33m)\u001b[0m\u001b[1;33m\u001b[0m\u001b[1;33m\u001b[0m\u001b[0m\n\u001b[0m\u001b[0;32m     12\u001b[0m     \u001b[0mparsed\u001b[0m\u001b[1;33m.\u001b[0m\u001b[0minsert\u001b[0m\u001b[1;33m(\u001b[0m\u001b[1;36m0\u001b[0m\u001b[1;33m,\u001b[0m \u001b[0mpreface\u001b[0m\u001b[1;33m)\u001b[0m\u001b[1;33m\u001b[0m\u001b[1;33m\u001b[0m\u001b[0m\n\u001b[0;32m     13\u001b[0m \u001b[1;33m\u001b[0m\u001b[0m\n",
      "\u001b[1;32mc:\\Users\\dallym\\OneDrive - Genesis Energy Limited\\Documents\\Projects\\parliament-scraper\\notebooks\\..\\parliament\\scraper.py\u001b[0m in \u001b[0;36mparse_all_html\u001b[1;34m(html_tags)\u001b[0m\n\u001b[0;32m    274\u001b[0m                 \u001b[1;32mdel\u001b[0m \u001b[0mtag\u001b[0m\u001b[1;33m[\u001b[0m\u001b[1;34m\"raw_tag\"\u001b[0m\u001b[1;33m]\u001b[0m\u001b[1;33m\u001b[0m\u001b[1;33m\u001b[0m\u001b[0m\n\u001b[0;32m    275\u001b[0m     \u001b[0mspeakers_split\u001b[0m \u001b[1;33m=\u001b[0m \u001b[0msplit_speaker_subtext\u001b[0m\u001b[1;33m(\u001b[0m\u001b[0mspeakers_filled\u001b[0m\u001b[1;33m)\u001b[0m\u001b[1;33m\u001b[0m\u001b[1;33m\u001b[0m\u001b[0m\n\u001b[1;32m--> 276\u001b[1;33m     \u001b[0mq_and_a_grouped\u001b[0m \u001b[1;33m=\u001b[0m \u001b[0mq_and_a_grouper\u001b[0m\u001b[1;33m(\u001b[0m\u001b[0mspeakers_split\u001b[0m\u001b[1;33m)\u001b[0m\u001b[1;33m\u001b[0m\u001b[1;33m\u001b[0m\u001b[0m\n\u001b[0m\u001b[0;32m    277\u001b[0m     \u001b[0mbill_debate_grouped\u001b[0m \u001b[1;33m=\u001b[0m \u001b[0mbill_debate_grouper\u001b[0m\u001b[1;33m(\u001b[0m\u001b[0mq_and_a_grouped\u001b[0m\u001b[1;33m)\u001b[0m\u001b[1;33m\u001b[0m\u001b[1;33m\u001b[0m\u001b[0m\n\u001b[0;32m    278\u001b[0m \u001b[1;33m\u001b[0m\u001b[0m\n",
      "\u001b[1;32mc:\\Users\\dallym\\OneDrive - Genesis Energy Limited\\Documents\\Projects\\parliament-scraper\\notebooks\\..\\parliament\\scraper.py\u001b[0m in \u001b[0;36mq_and_a_grouper\u001b[1;34m(parsed_tags)\u001b[0m\n\u001b[0;32m    102\u001b[0m                 and not (tag_class == \"SupAnswer\"\n\u001b[0;32m    103\u001b[0m                 or tag_id in [INTERJECTION, SPEECH, CONT_SPEECH, NOTE])):\n\u001b[1;32m--> 104\u001b[1;33m                 current_question_group[\"follow_up_questions\"].append(\n\u001b[0m\u001b[0;32m    105\u001b[0m                     \u001b[0mcurrent_sup_question\u001b[0m\u001b[1;33m\u001b[0m\u001b[1;33m\u001b[0m\u001b[0m\n\u001b[0;32m    106\u001b[0m                 )\n",
      "\u001b[1;31mKeyError\u001b[0m: 'follow_up_questions'"
     ]
    }
   ],
   "source": [
    "from parliament.scraper import parse_all_html\r\n",
    "import json\r\n",
    "\r\n",
    "\r\n",
    "outdir = \"output/reports\"\r\n",
    "os.makedirs(outdir, exist_ok=True)\r\n",
    "\r\n",
    "for report_meta in report_links:\r\n",
    "    preface, html_tags, _, _ = initial_parse(\r\n",
    "        report_meta[0], report_meta[1])\r\n",
    "    parsed = parse_all_html(html_tags)\r\n",
    "    parsed.insert(0, preface)\r\n",
    "\r\n",
    "    date_string = f\"{report_meta[0]}_{report_meta[1]}\"\r\n",
    "    outfilename = f\"{outdir}/debate_{date_string}.json\"\r\n",
    "    if os.path.exists(outfilename):\r\n",
    "        os.remove(outfilename)\r\n",
    "\r\n",
    "    with open(outfilename, \"w\", encoding=\"utf-8\") as f:\r\n",
    "        json.dump(parsed, f, indent=2, sort_keys=True)\r\n",
    "    print(f\"report saved to: {outfilename}\")\r\n"
   ]
  },
  {
   "cell_type": "code",
   "execution_count": null,
   "metadata": {},
   "outputs": [],
   "source": []
  }
 ],
 "metadata": {
  "interpreter": {
   "hash": "32172371068f9c49b98a1f93223636cfb40c8efecc9a856a904e50307d357046"
  },
  "kernelspec": {
   "display_name": "Python 3.8.10 64-bit ('parliament_scraper': conda)",
   "name": "python3"
  },
  "language_info": {
   "codemirror_mode": {
    "name": "ipython",
    "version": 3
   },
   "file_extension": ".py",
   "mimetype": "text/x-python",
   "name": "python",
   "nbconvert_exporter": "python",
   "pygments_lexer": "ipython3",
   "version": "3.8.10"
  },
  "orig_nbformat": 4
 },
 "nbformat": 4,
 "nbformat_minor": 2
}